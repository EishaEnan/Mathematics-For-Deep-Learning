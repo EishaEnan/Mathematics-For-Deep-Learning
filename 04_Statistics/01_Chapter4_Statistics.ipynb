{
 "cells": [
  {
   "cell_type": "markdown",
   "metadata": {},
   "source": [
    "### Biased vs Unbiased Variance\n",
    "As the number of samples in our dataset increases, the difference between the biased and unbiased variance decreases because deviding by **n** or **n - 1** matters less and less."
   ]
  },
  {
   "cell_type": "code",
   "execution_count": 2,
   "metadata": {},
   "outputs": [],
   "source": [
    "import numpy as np\n",
    "import matplotlib.pyplot as plt"
   ]
  },
  {
   "cell_type": "code",
   "execution_count": 3,
   "metadata": {},
   "outputs": [
    {
     "name": "stdout",
     "output_type": "stream",
     "text": [
      "Biased Sample Variance = 0.09060256077482641\n",
      "Unbiased Sample Variance =  0.10066951197202934\n",
      "Difference = 0.010066951197202925\n"
     ]
    }
   ],
   "source": [
    "n = 10\n",
    "a = np.random.random(n)\n",
    "biased_var = (1/n)*((a-a.mean())**2).sum() # devide by n\n",
    "unbiased_var = (1/(n-1))*((a-a.mean())**2).sum() # devide by (n-1)\n",
    "print(f\"Biased Sample Variance = {biased_var}\")\n",
    "print(f\"Unbiased Sample Variance =  {unbiased_var}\")\n",
    "print(f\"Difference = {unbiased_var - biased_var}\")"
   ]
  },
  {
   "cell_type": "code",
   "execution_count": 4,
   "metadata": {},
   "outputs": [
    {
     "name": "stdout",
     "output_type": "stream",
     "text": [
      "Biased Sample Variance = 0.09248275471187148\n",
      "Unbiased Sample Variance =  0.09341692395138533\n",
      "Difference = 0.0009341692395138518\n"
     ]
    }
   ],
   "source": [
    "n = 100 # larger sample size\n",
    "a = np.random.random(n)\n",
    "biased_var = (1/n)*((a-a.mean())**2).sum() # devide by n\n",
    "unbiased_var = (1/(n-1))*((a-a.mean())**2).sum() # devide by (n-1)\n",
    "print(f\"Biased Sample Variance = {biased_var}\")\n",
    "print(f\"Unbiased Sample Variance =  {unbiased_var}\")\n",
    "print(f\"Difference = {unbiased_var - biased_var}\")"
   ]
  },
  {
   "cell_type": "code",
   "execution_count": 5,
   "metadata": {},
   "outputs": [
    {
     "name": "stdout",
     "output_type": "stream",
     "text": [
      "Biased Sample Variance = 0.0834812314210163\n",
      "Unbiased Sample Variance =  0.0834895803790542\n",
      "Difference = 8.348958037904253e-06\n"
     ]
    }
   ],
   "source": [
    "n = 10000 # even larger sample size\n",
    "a = np.random.random(n)\n",
    "biased_var = (1/n)*((a-a.mean())**2).sum() # devide by n\n",
    "unbiased_var = (1/(n-1))*((a-a.mean())**2).sum() # devide by (n-1)\n",
    "print(f\"Biased Sample Variance = {biased_var}\")\n",
    "print(f\"Unbiased Sample Variance =  {unbiased_var}\")\n",
    "print(f\"Difference = {unbiased_var - biased_var}\")"
   ]
  },
  {
   "cell_type": "markdown",
   "metadata": {},
   "source": [
    "### Median Absolute Deviation (MAD)\n",
    "The standard deviation is based on the mean. The mean, as we saw above, is sensitive to extreme values, and the standard deviation is doubly so because we square the deviation from the mean for each sample. A measure of variability that is insensitive to extreme values in the dataset is the median absolute deviation (MAD).\n",
    "\n",
    "MAD = median(|𝘟<sub>𝘪</sub> − median(𝘟)|)"
   ]
  },
  {
   "cell_type": "code",
   "execution_count": 6,
   "metadata": {},
   "outputs": [],
   "source": [
    "def MAD(x):\n",
    "    return np.median(np.abs(x-np.median(x)))"
   ]
  },
  {
   "cell_type": "code",
   "execution_count": 7,
   "metadata": {},
   "outputs": [
    {
     "name": "stdout",
     "output_type": "stream",
     "text": [
      "(Mean) Standard deviation = 2.802570248896538\n",
      "Median Standard Deviation = 3.0\n"
     ]
    }
   ],
   "source": [
    "sample = np.random.randint(1, 10, 100)\n",
    "print(f\"(Mean) Standard deviation = {sample.std()}\") \n",
    "print(f\"Median Standard Deviation = {MAD(sample)}\")"
   ]
  },
  {
   "cell_type": "markdown",
   "metadata": {},
   "source": [
    "The MAD is not often used, but its insensitivity to extreme values in the dataset argues toward more frequent use, especially for outlier detection."
   ]
  },
  {
   "cell_type": "markdown",
   "metadata": {},
   "source": [
    "### Quantiles and Box Plots"
   ]
  },
  {
   "cell_type": "markdown",
   "metadata": {},
   "source": []
  },
  {
   "cell_type": "markdown",
   "metadata": {},
   "source": []
  },
  {
   "cell_type": "code",
   "execution_count": 8,
   "metadata": {},
   "outputs": [
    {
     "name": "stdout",
     "output_type": "stream",
     "text": [
      "Quartiles: [ 18.    56.75  68.    78.   100.  ]\n",
      "Counts by quartile:\n",
      "250\n",
      "237\n",
      "253\n",
      "248\n"
     ]
    }
   ],
   "source": [
    "d = np.load(\"exams.npy\")\n",
    "p = d[:, 0].astype(\"uint32\")\n",
    "q = np.quantile(p, [0.0, 0.25, 0.5, 0.75, 1.0])\n",
    "print(f\"Quartiles: {q}\")\n",
    "print(\"Counts by quartile:\")\n",
    "print(f\"{((q[0] <= p) & (p < q[1])).sum()}\")\n",
    "print(f\"{((q[1] <= p) & (p < q[2])).sum()}\")\n",
    "print(f\"{((q[2] <= p) & (p < q[3])).sum()}\")\n",
    "print(f\"{((q[3] <= p) & (p < q[4])).sum()}\")"
   ]
  },
  {
   "cell_type": "code",
   "execution_count": 9,
   "metadata": {},
   "outputs": [
    {
     "data": {
      "image/png": "[encoded data removed]",
      "text/plain": [
       "<Figure size 640x480 with 1 Axes>"
      ]
     },
     "metadata": {},
     "output_type": "display_data"
    }
   ],
   "source": [
    "d = np.load(\"exams.npy\")\n",
    "plt.boxplot(d)\n",
    "plt.xlabel(\"Test\")\n",
    "plt.ylabel(\"Scores\")\n",
    "plt.show()"
   ]
  },
  {
   "cell_type": "markdown",
   "metadata": {},
   "source": [
    "### Missing Data"
   ]
  },
  {
   "cell_type": "markdown",
   "metadata": {},
   "source": []
  },
  {
   "cell_type": "code",
   "execution_count": 10,
   "metadata": {},
   "outputs": [
    {
     "data": {
      "text/plain": [
       "True"
      ]
     },
     "execution_count": 10,
     "metadata": {},
     "output_type": "execute_result"
    }
   ],
   "source": [
    "a = np.arange(10, dtype=\"float64\")\n",
    "a[3] = np.nan\n",
    "np.isnan(a[3])"
   ]
  },
  {
   "cell_type": "code",
   "execution_count": 11,
   "metadata": {},
   "outputs": [
    {
     "data": {
      "text/plain": [
       "False"
      ]
     },
     "execution_count": 11,
     "metadata": {},
     "output_type": "execute_result"
    }
   ],
   "source": [
    "a[3] == np.nan"
   ]
  },
  {
   "cell_type": "code",
   "execution_count": 12,
   "metadata": {},
   "outputs": [
    {
     "data": {
      "text/plain": [
       "False"
      ]
     },
     "execution_count": 12,
     "metadata": {},
     "output_type": "execute_result"
    }
   ],
   "source": [
    "a[3] is np.nan"
   ]
  },
  {
   "cell_type": "markdown",
   "metadata": {},
   "source": [
    "Notice that direct comparison to `np.nan` with either `==` or is doesn’t work; only testing with `np.isnan` works."
   ]
  },
  {
   "cell_type": "code",
   "execution_count": 13,
   "metadata": {},
   "outputs": [
    {
     "data": {
      "image/png": "[encoded data removed]",
      "text/plain": [
       "<Figure size 640x480 with 1 Axes>"
      ]
     },
     "metadata": {},
     "output_type": "display_data"
    }
   ],
   "source": [
    "N = 1000\n",
    "np.random.seed(123)\n",
    "x = np.zeros((N, 4))\n",
    "x[:, 0] = 5*np.random.random(N)\n",
    "x[:, 1] = np.random.normal(10, 1, size=N)\n",
    "x[:, 2] = 3 * np.random.beta(5, 2, N)\n",
    "x[:, 3] = 0.3 * np.random.lognormal(size=N)\n",
    "\n",
    "plt.boxplot(x)\n",
    "plt.show()"
   ]
  },
  {
   "cell_type": "code",
   "execution_count": 14,
   "metadata": {},
   "outputs": [],
   "source": [
    "# let's add some random NaN elements to x\n",
    "i = np.random.randint(0, N, size=int(0.05*N))\n",
    "x[i, 0] = np.nan\n",
    "i = np.random.randint(0, N, size=int(0.05*N))\n",
    "x[i, 1] = np.nan\n",
    "i = np.random.randint(0, N, size=int(0.05*N))\n",
    "x[i, 2] = np.nan\n",
    "i = np.random.randint(0, N, size=int(0.05*N))\n",
    "x[i, 3] = np.nan"
   ]
  },
  {
   "cell_type": "code",
   "execution_count": 15,
   "metadata": {},
   "outputs": [
    {
     "data": {
      "image/png": "[encoded data removed]",
      "text/plain": [
       "<Figure size 640x480 with 1 Axes>"
      ]
     },
     "metadata": {},
     "output_type": "display_data"
    }
   ],
   "source": [
    "plt.boxplot(x)\n",
    "plt.show()"
   ]
  },
  {
   "cell_type": "markdown",
   "metadata": {},
   "source": [
    "Because we have features that are highly not normally distributed, we’ll\n",
    "update missing values with the median instead of the mean"
   ]
  },
  {
   "cell_type": "code",
   "execution_count": 16,
   "metadata": {},
   "outputs": [],
   "source": [
    "good_idx = np.where(~np.isnan(x[:, 0]))[0]\n",
    "m = np.median(x[good_idx, 0])\n",
    "bad_idx = np.where(np.isnan(x[:,0]))[0]\n",
    "x[bad_idx, 0] = m\n",
    "\n",
    "mean_before = np.mean(x[good_idx,0])\n",
    "std_before = np.std(x[good_idx, 0])\n",
    "\n",
    "mean_after = np.mean(x[:, 0])\n",
    "std_after = np.std(x[:,0])\n"
   ]
  },
  {
   "cell_type": "code",
   "execution_count": 17,
   "metadata": {},
   "outputs": [
    {
     "name": "stdout",
     "output_type": "stream",
     "text": [
      "Mean, std before updating NaN values: 2.503729927860764, 1.4230940486144708\n",
      "Mean, std after updating NaN values: 2.502927531665383, 1.3877948443693542\n"
     ]
    }
   ],
   "source": [
    "print(f\"Mean, std before updating NaN values: {mean_before}, {std_before}\")\n",
    "print(f\"Mean, std after updating NaN values: {mean_after}, {std_after}\")\n"
   ]
  },
  {
   "cell_type": "markdown",
   "metadata": {},
   "source": [
    "### Correlation\n",
    "\n",
    "#### Pearson Correlation:\n",
    "\n",
    "$$corr(X, Y) = \n",
    "\\frac{E(XY) - E(X)E(Y)}{\\sqrt{E(X^2) - [E(X)]^2} \\cdot \\sqrt{E(Y^2) - [E(Y)]^2}}\n",
    "$$"
   ]
  },
  {
   "cell_type": "code",
   "execution_count": 18,
   "metadata": {},
   "outputs": [],
   "source": [
    "# Pearson Correlation Coefficient\n",
    "def pearson(x, y):\n",
    "    exy = (x*y).mean()\n",
    "    ex = x.mean()\n",
    "    ey = y.mean()\n",
    "    exx = (x*x).mean()\n",
    "    ex2 = (x.mean())**2\n",
    "    eyy = (y*y).mean()\n",
    "    ey2 = (y.mean())**2\n",
    "    \n",
    "    return ((exy - ex*ey)/(np.sqrt(exx-ex2)*np.sqrt(eyy-ey2)))"
   ]
  },
  {
   "cell_type": "code",
   "execution_count": 19,
   "metadata": {},
   "outputs": [],
   "source": [
    "np.random.seed(123)\n",
    "N = 100\n",
    "x = np.linspace(0, 1, N) + (np.random.random(N)-0.5)\n",
    "y = np.random.random(N) * x\n",
    "z = -0.1 * np.random.random(N) * x\n"
   ]
  },
  {
   "cell_type": "code",
   "execution_count": 20,
   "metadata": {},
   "outputs": [
    {
     "data": {
      "image/png": "[encoded data removed]",
      "text/plain": [
       "<Figure size 640x480 with 1 Axes>"
      ]
     },
     "metadata": {},
     "output_type": "display_data"
    }
   ],
   "source": [
    "# Create scatterplot\n",
    "plt.scatter(x, y, label='x vs y', alpha=0.7)\n",
    "plt.scatter(y, z, label='y vs z', alpha=0.7)\n",
    "plt.scatter(z, x, label='z vs x', alpha=0.7)\n",
    "\n",
    "plt.title('Simple Scatterplot')\n",
    "plt.legend()\n",
    "plt.show()"
   ]
  },
  {
   "cell_type": "code",
   "execution_count": 21,
   "metadata": {},
   "outputs": [
    {
     "name": "stdout",
     "output_type": "stream",
     "text": [
      "pearson(x, y): 0.7062428200752774\n",
      "pearson(y, z): -0.6107451070259048\n",
      "pearson(z, x): -0.6468430327237882\n"
     ]
    }
   ],
   "source": [
    "print(f\"pearson(x, y): {pearson(x, y)}\")\n",
    "print(f\"pearson(y, z): {pearson(y, z)}\")\n",
    "print(f\"pearson(z, x): {pearson(z, x)}\")\n"
   ]
  },
  {
   "cell_type": "markdown",
   "metadata": {},
   "source": [
    "NumPy returns the following, with x, y, and z stacked as a single 3 × 100 array:"
   ]
  },
  {
   "cell_type": "code",
   "execution_count": 22,
   "metadata": {},
   "outputs": [
    {
     "name": "stdout",
     "output_type": "stream",
     "text": [
      "[[ 1.          0.70624282 -0.64684303]\n",
      " [ 0.70624282  1.         -0.61074511]\n",
      " [-0.64684303 -0.61074511  1.        ]]\n"
     ]
    }
   ],
   "source": [
    "d = np.vstack((x, y, z))\n",
    "print(np.corrcoef(d))"
   ]
  },
  {
   "cell_type": "markdown",
   "metadata": {},
   "source": [
    "In an image, nearby pixels are usually highly correlated. Let’s see if this is actually true for a sample apple image: \n",
    "\n",
    "\n",
    "![Apple Image](apple.png \"Optional title\")\n"
   ]
  },
  {
   "cell_type": "code",
   "execution_count": 23,
   "metadata": {},
   "outputs": [],
   "source": [
    "from matplotlib.image import imread \n",
    "\n",
    "apple = imread(\"apple.webp\")\n"
   ]
  },
  {
   "cell_type": "code",
   "execution_count": 24,
   "metadata": {},
   "outputs": [
    {
     "data": {
      "text/plain": [
       "(240, 240, 3)"
      ]
     },
     "execution_count": 24,
     "metadata": {},
     "output_type": "execute_result"
    }
   ],
   "source": [
    "# Row x Col x RGB Channel\n",
    "apple.shape"
   ]
  },
  {
   "cell_type": "code",
   "execution_count": 25,
   "metadata": {},
   "outputs": [],
   "source": [
    "a = apple[120, :, 1].astype('float64') # let's take a row in the middle\n",
    "b = apple[121, :, 1].astype('float64')\n",
    "c = apple[190, :, 1].astype('float64') # row from the bottom region\n",
    "d = np.random.random(240)"
   ]
  },
  {
   "cell_type": "code",
   "execution_count": 26,
   "metadata": {},
   "outputs": [
    {
     "data": {
      "text/plain": [
       "0.9941560249446773"
      ]
     },
     "execution_count": 26,
     "metadata": {},
     "output_type": "execute_result"
    }
   ],
   "source": [
    "pearson(a, b)"
   ]
  },
  {
   "cell_type": "markdown",
   "metadata": {},
   "source": [
    "we can see that a and b are strongly correlated"
   ]
  },
  {
   "cell_type": "code",
   "execution_count": 27,
   "metadata": {},
   "outputs": [
    {
     "data": {
      "text/plain": [
       "0.5666601328654954"
      ]
     },
     "execution_count": 27,
     "metadata": {},
     "output_type": "execute_result"
    }
   ],
   "source": [
    "pearson(a, c)"
   ]
  },
  {
   "cell_type": "code",
   "execution_count": 28,
   "metadata": {},
   "outputs": [
    {
     "data": {
      "text/plain": [
       "0.05423215812360191"
      ]
     },
     "execution_count": 28,
     "metadata": {},
     "output_type": "execute_result"
    }
   ],
   "source": [
    "pearson(a, d)"
   ]
  },
  {
   "cell_type": "markdown",
   "metadata": {},
   "source": [
    "r \n",
    "s\n",
    "​\n",
    " =1− \n",
    "n(n \n",
    "2\n",
    " −1)\n",
    "6∑d \n",
    "i\n",
    "2\n",
    "​\n",
    " \n",
    "​\n"
   ]
  },
  {
   "cell_type": "markdown",
   "metadata": {},
   "source": [
    "### Speareman Correlation Coefficient\n",
    "\n",
    "The formula for Spearman's rank correlation coefficient ($ \\rho$) is:\n",
    "\n",
    "$$\n",
    "\\rho = 1 - \\left( \\frac{6}{n(n^2 - 1)} \\sum_{i=0}^{n-1} d_i^2 \\right)\n",
    "\n",
    "$$\n",
    "Where:\n",
    "- $n$: Number of data points.\n",
    "- $ d_i $: Difference between ranks of $X$ and $Y$ for the $i$-th data point.\n",
    "- $( \\sum_{i=0}^{n-1} d_i^2 )$: Sum of squared rank differences.\n"
   ]
  },
  {
   "cell_type": "code",
   "execution_count": 29,
   "metadata": {},
   "outputs": [],
   "source": [
    "def spearman(x, y):\n",
    "    n = len(x)\n",
    "    t = x[np.argsort(x)]\n",
    "    rx = []\n",
    "    for i in range(n):\n",
    "        rx.append(np.where(x[i] == t)[0][0])\n",
    "    rx = np.array(rx, dtype=\"float64\")\n",
    "    t = y[np.argsort(y)]\n",
    "    ry = []\n",
    "    for i in range(n):\n",
    "        ry.append(np.where(y[i] == t)[0][0])\n",
    "    ry = np.array(ry, dtype=\"float64\")\n",
    "    d = rx - ry\n",
    "    return (1.0 - (6.0/(n*(n**2-1)))*(d**2).sum())"
   ]
  },
  {
   "cell_type": "code",
   "execution_count": 30,
   "metadata": {},
   "outputs": [
    {
     "data": {
      "text/plain": [
       "0.9895931352974878"
      ]
     },
     "execution_count": 30,
     "metadata": {},
     "output_type": "execute_result"
    }
   ],
   "source": [
    "spearman(a, b)"
   ]
  },
  {
   "cell_type": "code",
   "execution_count": 31,
   "metadata": {},
   "outputs": [
    {
     "data": {
      "text/plain": [
       "0.8059827427559506"
      ]
     },
     "execution_count": 31,
     "metadata": {},
     "output_type": "execute_result"
    }
   ],
   "source": [
    "spearman(a, c)"
   ]
  },
  {
   "cell_type": "code",
   "execution_count": 32,
   "metadata": {},
   "outputs": [
    {
     "data": {
      "text/plain": [
       "0.19322253858573935"
      ]
     },
     "execution_count": 32,
     "metadata": {},
     "output_type": "execute_result"
    }
   ],
   "source": [
    "spearman(a, d)"
   ]
  },
  {
   "cell_type": "code",
   "execution_count": 33,
   "metadata": {},
   "outputs": [
    {
     "name": "stdout",
     "output_type": "stream",
     "text": [
      "0.9889047078957551\n"
     ]
    }
   ],
   "source": [
    "# Built-in options\n",
    "from scipy.stats import spearmanr\n",
    "print(spearmanr(a, b)[0])"
   ]
  },
  {
   "cell_type": "markdown",
   "metadata": {},
   "source": [
    "It’s important to remember the fundamental difference between the Pearson and Spearman correlations. For example, consider the correlation between a linear ramp and the sigmoid function:"
   ]
  },
  {
   "cell_type": "code",
   "execution_count": 34,
   "metadata": {},
   "outputs": [
    {
     "name": "stdout",
     "output_type": "stream",
     "text": [
      "0.9053277293366915\n",
      "1.0\n"
     ]
    }
   ],
   "source": [
    "ramp = np.linspace(-20, 20, 1000)\n",
    "sig = 1.0 / (1.0 + np.exp(-ramp))\n",
    "print(pearson(ramp, sig))\n",
    "print(spearman(ramp, sig))"
   ]
  },
  {
   "cell_type": "markdown",
   "metadata": {},
   "source": [
    "Here, ramp increases linearly from –20 to 20 and sig follows a sigmoid shape\n",
    "(“S” curve). The Pearson correlation will be on the high side, since both are\n",
    "increasing as x becomes more positive, but the association is not purely linear. Running the example gives the results above, indicating a Pearson correlation of 0.9 but a perfect Spearman correlation of 1.0, since for every increase in ramp there is an increase in sig and only an\n",
    "increase. The Spearman correlation has captured the nonlinear relationship between the arguments, while the Pearson correlation has only hinted\n",
    "at it. If we’re analyzing a dataset intended for a classical machine learning\n",
    "algorithm, the Spearman correlation might help us decide which features to\n",
    "keep and which to discard."
   ]
  },
  {
   "cell_type": "markdown",
   "metadata": {},
   "source": [
    "### Hypothesis Testing"
   ]
  },
  {
   "cell_type": "code",
   "execution_count": null,
   "metadata": {},
   "outputs": [],
   "source": [
    "a = np.random.normal(85, 6, 50).astype(\"int32\")\n",
    "a[np.where(a > 100)] = 100 # capping any values over 100 to 100\n",
    "b = np.random.normal(82, 7, 50).astype(\"int32\")\n",
    "b[np.where(b > 100)] = 100"
   ]
  },
  {
   "cell_type": "code",
   "execution_count": 38,
   "metadata": {},
   "outputs": [
    {
     "name": "stdout",
     "output_type": "stream",
     "text": [
      "t = 2.33, p = 0.02\n"
     ]
    }
   ],
   "source": [
    "from scipy.stats import ttest_ind\n",
    "t, p = ttest_ind(a, b, equal_var=False)\n",
    "print(f\"t = {t:.2f}, p = {p:.2f}\")"
   ]
  },
  {
   "cell_type": "markdown",
   "metadata": {},
   "source": [
    "#### Confidence Interval"
   ]
  },
  {
   "cell_type": "code",
   "execution_count": 40,
   "metadata": {},
   "outputs": [],
   "source": [
    "from scipy import stats\n",
    "def CI(a, b, alpha=0.05):\n",
    "    n1, n2 = len(a), len(b)\n",
    "    s1, s2 = np.std(a, ddof=1)**2, np.std(b, ddof=1)**2\n",
    "    df = (s1/n1 + s2/n2)**2 / ((s1/n1)**2/(n1-1)+(s2/n2)**2/(n2-1))\n",
    "    tc = stats.t.ppf(1 - alpha/2, df)\n",
    "    lo = (a.mean()-b.mean()) - tc*np.sqrt(s1/n1 + s2/n2)\n",
    "    hi = (a.mean()-b.mean()) - tc*np.sqrt(s1/n1 + s2/n2)\n",
    "    return lo, hi"
   ]
  },
  {
   "cell_type": "code",
   "execution_count": 41,
   "metadata": {},
   "outputs": [
    {
     "data": {
      "text/plain": [
       "(0.4415714737551273, 0.4415714737551273)"
      ]
     },
     "execution_count": 41,
     "metadata": {},
     "output_type": "execute_result"
    }
   ],
   "source": [
    "CI(a, b)"
   ]
  },
  {
   "cell_type": "code",
   "execution_count": 44,
   "metadata": {},
   "outputs": [],
   "source": [
    "## Cohen's d\n",
    "def Cohen_d(a, b):\n",
    "    s1 = np.std(a, ddof=1)**2\n",
    "    s2 = np.std(b, ddof=1)**2\n",
    "    return (a.mean() - b.mean()) / np.sqrt(0.5*(s1+s2))"
   ]
  },
  {
   "cell_type": "code",
   "execution_count": 45,
   "metadata": {},
   "outputs": [
    {
     "data": {
      "text/plain": [
       "0.4659350238493651"
      ]
     },
     "execution_count": 45,
     "metadata": {},
     "output_type": "execute_result"
    }
   ],
   "source": [
    "Cohen_d(a, b)"
   ]
  },
  {
   "cell_type": "markdown",
   "metadata": {},
   "source": [
    "### The Mann-Whitney U Test\n",
    "\n",
    "The t-test assumes the distribution of the source data is normal. If the data is not normally distributed, we should instead use a nonparametric test. Nonparametric tests make no assumptions about the underlying distribution of the data. The Mann-Whitney U test, sometimes called the Wilcoxon rank-sum test, is a nonparametric test to help decide if two different sets of data come from the same parent distribution. The Mann-Whitney U test does not rely directly on the values of the data, but instead uses the data’s ranking."
   ]
  },
  {
   "cell_type": "code",
   "execution_count": 47,
   "metadata": {},
   "outputs": [
    {
     "name": "stdout",
     "output_type": "stream",
     "text": [
      "U = 1604.5, p = 0.014429607555793639\n"
     ]
    }
   ],
   "source": [
    "from scipy.stats import mannwhitneyu\n",
    "u, p = mannwhitneyu(a, b)\n",
    "print(f\"U = {u}, p = {p}\")"
   ]
  },
  {
   "cell_type": "code",
   "execution_count": null,
   "metadata": {},
   "outputs": [],
   "source": []
  },
  {
   "cell_type": "code",
   "execution_count": null,
   "metadata": {},
   "outputs": [],
   "source": []
  }
 ],
 "metadata": {
  "kernelspec": {
   "display_name": "Python 3",
   "language": "python",
   "name": "python3"
  },
  "language_info": {
   "codemirror_mode": {
    "name": "ipython",
    "version": 3
   },
   "file_extension": ".py",
   "mimetype": "text/x-python",
   "name": "python",
   "nbconvert_exporter": "python",
   "pygments_lexer": "ipython3",
   "version": "3.10.12"
  }
 },
 "nbformat": 4,
 "nbformat_minor": 4
}
